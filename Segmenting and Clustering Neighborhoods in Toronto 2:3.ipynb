{
 "cells": [
  {
   "cell_type": "markdown",
   "metadata": {},
   "source": [
    "## I imported the df created in the previous step in this new notebook"
   ]
  },
  {
   "cell_type": "code",
   "execution_count": 2,
   "metadata": {},
   "outputs": [
    {
     "data": {
      "text/html": [
       "<div>\n",
       "<style scoped>\n",
       "    .dataframe tbody tr th:only-of-type {\n",
       "        vertical-align: middle;\n",
       "    }\n",
       "\n",
       "    .dataframe tbody tr th {\n",
       "        vertical-align: top;\n",
       "    }\n",
       "\n",
       "    .dataframe thead th {\n",
       "        text-align: right;\n",
       "    }\n",
       "</style>\n",
       "<table border=\"1\" class=\"dataframe\">\n",
       "  <thead>\n",
       "    <tr style=\"text-align: right;\">\n",
       "      <th></th>\n",
       "      <th>PostalCode</th>\n",
       "      <th>Borough</th>\n",
       "      <th>Neighbourhood</th>\n",
       "    </tr>\n",
       "  </thead>\n",
       "  <tbody>\n",
       "    <tr>\n",
       "      <th>0</th>\n",
       "      <td>M1B</td>\n",
       "      <td>Scarborough</td>\n",
       "      <td>Rouge, Malvern</td>\n",
       "    </tr>\n",
       "    <tr>\n",
       "      <th>1</th>\n",
       "      <td>M1C</td>\n",
       "      <td>Scarborough</td>\n",
       "      <td>Highland Creek, Rouge Hill, Port Union</td>\n",
       "    </tr>\n",
       "    <tr>\n",
       "      <th>2</th>\n",
       "      <td>M1E</td>\n",
       "      <td>Scarborough</td>\n",
       "      <td>Guildwood, Morningside, West Hill</td>\n",
       "    </tr>\n",
       "    <tr>\n",
       "      <th>3</th>\n",
       "      <td>M1G</td>\n",
       "      <td>Scarborough</td>\n",
       "      <td>Woburn</td>\n",
       "    </tr>\n",
       "    <tr>\n",
       "      <th>4</th>\n",
       "      <td>M1H</td>\n",
       "      <td>Scarborough</td>\n",
       "      <td>Cedarbrae</td>\n",
       "    </tr>\n",
       "  </tbody>\n",
       "</table>\n",
       "</div>"
      ],
      "text/plain": [
       "  PostalCode      Borough                           Neighbourhood\n",
       "0        M1B  Scarborough                          Rouge, Malvern\n",
       "1        M1C  Scarborough  Highland Creek, Rouge Hill, Port Union\n",
       "2        M1E  Scarborough       Guildwood, Morningside, West Hill\n",
       "3        M1G  Scarborough                                  Woburn\n",
       "4        M1H  Scarborough                               Cedarbrae"
      ]
     },
     "execution_count": 2,
     "metadata": {},
     "output_type": "execute_result"
    }
   ],
   "source": [
    "import types\n",
    "import pandas as pd\n",
    "from botocore.client import Config\n",
    "import ibm_boto3\n",
    "\n",
    "def __iter__(self): return 0\n",
    "\n",
    "# @hidden_cell\n",
    "# The following code accesses a file in your IBM Cloud Object Storage. It includes your credentials.\n",
    "# You might want to remove those credentials before you share the notebook.\n",
    "\n",
    "\n",
    "body = client_d33d6cb878cb4ad3aada2766c9d0d330.get_object(Bucket='datasciencethebestclassifier-donotdelete-pr-iy5scoeyuba1iv',Key='toronto_neigh.csv')['Body']\n",
    "# add missing __iter__ method, so pandas accepts body as file-like object\n",
    "if not hasattr(body, \"__iter__\"): body.__iter__ = types.MethodType( __iter__, body )\n",
    "\n",
    "toronto_neigh = pd.read_csv(body)\n",
    "toronto_neigh = toronto_neigh.drop('Unnamed: 0', 1)\n",
    "\n",
    "toronto_neigh.head()\n"
   ]
  },
  {
   "cell_type": "markdown",
   "metadata": {},
   "source": [
    "\n",
    "\n",
    "Given that this package can be very unreliable, in case you are not able to get the geographical coordinates of the neighborhoods using the Geocoder package, here is a link to a csv file that has the geographical coordinates of each postal code: http://cocl.us/Geospatial_data"
   ]
  },
  {
   "cell_type": "code",
   "execution_count": 3,
   "metadata": {},
   "outputs": [
    {
     "data": {
      "text/html": [
       "<div>\n",
       "<style scoped>\n",
       "    .dataframe tbody tr th:only-of-type {\n",
       "        vertical-align: middle;\n",
       "    }\n",
       "\n",
       "    .dataframe tbody tr th {\n",
       "        vertical-align: top;\n",
       "    }\n",
       "\n",
       "    .dataframe thead th {\n",
       "        text-align: right;\n",
       "    }\n",
       "</style>\n",
       "<table border=\"1\" class=\"dataframe\">\n",
       "  <thead>\n",
       "    <tr style=\"text-align: right;\">\n",
       "      <th></th>\n",
       "      <th>PostalCode</th>\n",
       "      <th>Latitude</th>\n",
       "      <th>Longitude</th>\n",
       "    </tr>\n",
       "  </thead>\n",
       "  <tbody>\n",
       "    <tr>\n",
       "      <th>0</th>\n",
       "      <td>M1B</td>\n",
       "      <td>43.806686</td>\n",
       "      <td>-79.194353</td>\n",
       "    </tr>\n",
       "    <tr>\n",
       "      <th>1</th>\n",
       "      <td>M1C</td>\n",
       "      <td>43.784535</td>\n",
       "      <td>-79.160497</td>\n",
       "    </tr>\n",
       "    <tr>\n",
       "      <th>2</th>\n",
       "      <td>M1E</td>\n",
       "      <td>43.763573</td>\n",
       "      <td>-79.188711</td>\n",
       "    </tr>\n",
       "    <tr>\n",
       "      <th>3</th>\n",
       "      <td>M1G</td>\n",
       "      <td>43.770992</td>\n",
       "      <td>-79.216917</td>\n",
       "    </tr>\n",
       "    <tr>\n",
       "      <th>4</th>\n",
       "      <td>M1H</td>\n",
       "      <td>43.773136</td>\n",
       "      <td>-79.239476</td>\n",
       "    </tr>\n",
       "  </tbody>\n",
       "</table>\n",
       "</div>"
      ],
      "text/plain": [
       "  PostalCode   Latitude  Longitude\n",
       "0        M1B  43.806686 -79.194353\n",
       "1        M1C  43.784535 -79.160497\n",
       "2        M1E  43.763573 -79.188711\n",
       "3        M1G  43.770992 -79.216917\n",
       "4        M1H  43.773136 -79.239476"
      ]
     },
     "execution_count": 3,
     "metadata": {},
     "output_type": "execute_result"
    }
   ],
   "source": [
    "body = client_d33d6cb878cb4ad3aada2766c9d0d330.get_object(Bucket='datasciencethebestclassifier-donotdelete-pr-iy5scoeyuba1iv',Key='Geospatial_Coordinates.csv')['Body']\n",
    "# add missing __iter__ method, so pandas accepts body as file-like object\n",
    "if not hasattr(body, \"__iter__\"): body.__iter__ = types.MethodType( __iter__, body )\n",
    "\n",
    "lat_lng = pd.read_csv(body)\n",
    "lat_lng.rename(columns = {'Postal Code':'PostalCode'}, inplace = True)\n",
    "\n",
    "lat_lng.head()"
   ]
  },
  {
   "cell_type": "code",
   "execution_count": 4,
   "metadata": {},
   "outputs": [
    {
     "data": {
      "text/html": [
       "<div>\n",
       "<style scoped>\n",
       "    .dataframe tbody tr th:only-of-type {\n",
       "        vertical-align: middle;\n",
       "    }\n",
       "\n",
       "    .dataframe tbody tr th {\n",
       "        vertical-align: top;\n",
       "    }\n",
       "\n",
       "    .dataframe thead th {\n",
       "        text-align: right;\n",
       "    }\n",
       "</style>\n",
       "<table border=\"1\" class=\"dataframe\">\n",
       "  <thead>\n",
       "    <tr style=\"text-align: right;\">\n",
       "      <th></th>\n",
       "      <th>PostalCode</th>\n",
       "      <th>Borough</th>\n",
       "      <th>Neighbourhood</th>\n",
       "      <th>Latitude</th>\n",
       "      <th>Longitude</th>\n",
       "    </tr>\n",
       "  </thead>\n",
       "  <tbody>\n",
       "    <tr>\n",
       "      <th>0</th>\n",
       "      <td>M1B</td>\n",
       "      <td>Scarborough</td>\n",
       "      <td>Rouge, Malvern</td>\n",
       "      <td>43.806686</td>\n",
       "      <td>-79.194353</td>\n",
       "    </tr>\n",
       "    <tr>\n",
       "      <th>1</th>\n",
       "      <td>M1C</td>\n",
       "      <td>Scarborough</td>\n",
       "      <td>Highland Creek, Rouge Hill, Port Union</td>\n",
       "      <td>43.784535</td>\n",
       "      <td>-79.160497</td>\n",
       "    </tr>\n",
       "    <tr>\n",
       "      <th>2</th>\n",
       "      <td>M1E</td>\n",
       "      <td>Scarborough</td>\n",
       "      <td>Guildwood, Morningside, West Hill</td>\n",
       "      <td>43.763573</td>\n",
       "      <td>-79.188711</td>\n",
       "    </tr>\n",
       "    <tr>\n",
       "      <th>3</th>\n",
       "      <td>M1G</td>\n",
       "      <td>Scarborough</td>\n",
       "      <td>Woburn</td>\n",
       "      <td>43.770992</td>\n",
       "      <td>-79.216917</td>\n",
       "    </tr>\n",
       "    <tr>\n",
       "      <th>4</th>\n",
       "      <td>M1H</td>\n",
       "      <td>Scarborough</td>\n",
       "      <td>Cedarbrae</td>\n",
       "      <td>43.773136</td>\n",
       "      <td>-79.239476</td>\n",
       "    </tr>\n",
       "  </tbody>\n",
       "</table>\n",
       "</div>"
      ],
      "text/plain": [
       "  PostalCode      Borough                           Neighbourhood   Latitude  \\\n",
       "0        M1B  Scarborough                          Rouge, Malvern  43.806686   \n",
       "1        M1C  Scarborough  Highland Creek, Rouge Hill, Port Union  43.784535   \n",
       "2        M1E  Scarborough       Guildwood, Morningside, West Hill  43.763573   \n",
       "3        M1G  Scarborough                                  Woburn  43.770992   \n",
       "4        M1H  Scarborough                               Cedarbrae  43.773136   \n",
       "\n",
       "   Longitude  \n",
       "0 -79.194353  \n",
       "1 -79.160497  \n",
       "2 -79.188711  \n",
       "3 -79.216917  \n",
       "4 -79.239476  "
      ]
     },
     "execution_count": 4,
     "metadata": {},
     "output_type": "execute_result"
    }
   ],
   "source": [
    "df = toronto_neigh.merge(lat_lng,on=\"PostalCode\")\n",
    "df.head()"
   ]
  },
  {
   "cell_type": "code",
   "execution_count": 7,
   "metadata": {},
   "outputs": [
    {
     "data": {
      "text/html": [
       "<a download=\"df_toronto_part3.csv\" href=\"data:text/csv;base64,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\" target=\"_blank\">Download CSV file</a>"
      ],
      "text/plain": [
       "<IPython.core.display.HTML object>"
      ]
     },
     "execution_count": 7,
     "metadata": {},
     "output_type": "execute_result"
    }
   ],
   "source": [
    "import base64\n",
    "from IPython.display import HTML\n",
    "\n",
    "def create_download_link(df, title = \"Download CSV file\", filename = \"df_toronto_part3.csv\"):  \n",
    "    csv = df.to_csv()\n",
    "    b64 = base64.b64encode(csv.encode())\n",
    "    payload = b64.decode()\n",
    "    html = '<a download=\"{filename}\" href=\"data:text/csv;base64,{payload}\" target=\"_blank\">{title}</a>'\n",
    "    html = html.format(payload=payload,title=title,filename=filename)\n",
    "    return HTML(html)\n",
    "\n",
    "create_download_link(df)"
   ]
  },
  {
   "cell_type": "code",
   "execution_count": null,
   "metadata": {},
   "outputs": [],
   "source": []
  }
 ],
 "metadata": {
  "kernelspec": {
   "display_name": "Python 3.6",
   "language": "python",
   "name": "python3"
  },
  "language_info": {
   "codemirror_mode": {
    "name": "ipython",
    "version": 3
   },
   "file_extension": ".py",
   "mimetype": "text/x-python",
   "name": "python",
   "nbconvert_exporter": "python",
   "pygments_lexer": "ipython3",
   "version": "3.6.9"
  }
 },
 "nbformat": 4,
 "nbformat_minor": 1
}
